{
 "cells": [
  {
   "cell_type": "code",
   "execution_count": 1,
   "id": "0943b28f-2c2f-48d5-8230-fe82a00a447b",
   "metadata": {},
   "outputs": [],
   "source": [
    "from app.config.environment_variables import BETANO, PIXBET, ESP_DA_SORTE, VAI_DE_BET, ESTRELA_BET, SPORTING_BET\n",
    "from app.packages.browser.playwright_esp_da_sorte import async_get_html_content\n",
    "import asyncio"
   ]
  },
  {
   "cell_type": "code",
   "execution_count": 2,
   "id": "2f30babd-3e40-4e52-8798-10f615011caf",
   "metadata": {},
   "outputs": [],
   "source": [
    "loop = asyncio.get_event_loop()\n",
    "future = asyncio.run_coroutine_threadsafe(async_get_html_content(\"https://www.esportesdasorte.com/ptb/bet/basketball/usa/nba-23-24\"), loop)"
   ]
  },
  {
   "cell_type": "code",
   "execution_count": 3,
   "id": "a00ec22c-9ee2-4738-abf8-207ab7848b28",
   "metadata": {},
   "outputs": [],
   "source": [
    "content = future.result()"
   ]
  },
  {
   "cell_type": "code",
   "execution_count": 4,
   "id": "570ef078-4232-40e2-8590-fbf83f3b9622",
   "metadata": {},
   "outputs": [],
   "source": [
    "from selectolax.parser import HTMLParser"
   ]
  },
  {
   "cell_type": "code",
   "execution_count": 5,
   "id": "34288545-af08-43b2-b6e0-9dfc9da6d056",
   "metadata": {},
   "outputs": [],
   "source": [
    "content = HTMLParser(content)"
   ]
  },
  {
   "cell_type": "code",
   "execution_count": 6,
   "id": "11cdcecc-013f-41b5-8fe5-c16e550730f9",
   "metadata": {},
   "outputs": [],
   "source": [
    "children = content.css(\".modul-content > .fixture-container > .fixture-body\")"
   ]
  },
  {
   "cell_type": "code",
   "execution_count": 12,
   "id": "de62c0e4-08a1-4685-9e4f-c7f587a3aad2",
   "metadata": {},
   "outputs": [],
   "source": [
    "def get_matches(children):\n",
    "    matches = []\n",
    "    for child in children:\n",
    "        match = child.text(deep=True, separator=\"--\")\n",
    "        match = [m.strip() for m in match.split(\"--\")]\n",
    "        matches.append(match)\n",
    "    return matches"
   ]
  },
  {
   "cell_type": "code",
   "execution_count": 13,
   "id": "69e2efab-42cf-4178-9c0d-c91a14d7b239",
   "metadata": {},
   "outputs": [],
   "source": [
    "matches = get_matches(children)"
   ]
  },
  {
   "cell_type": "code",
   "execution_count": 14,
   "id": "9ba7c476-9ef5-417d-8c9a-887c78607b68",
   "metadata": {},
   "outputs": [
    {
     "data": {
      "text/plain": [
       "[['19:00',\n",
       "  '82773',\n",
       "  'Miami Heat',\n",
       "  'Cleveland Cavaliers',\n",
       "  'A',\n",
       "  'BB',\n",
       "  '1.56',\n",
       "  'Miami Heat',\n",
       "  '2.44',\n",
       "  'Cleveland Cavaliers',\n",
       "  '2.11',\n",
       "  'Casa (-5.5)',\n",
       "  '1.73',\n",
       "  'Fora (+5.5)',\n",
       "  'unfold_more',\n",
       "  '1.65',\n",
       "  'Mais de 199.5',\n",
       "  '2.26',\n",
       "  'Menos de 199.5',\n",
       "  'unfold_more',\n",
       "  'equalizer',\n",
       "  '+439'],\n",
       " ['16:00',\n",
       "  '82797',\n",
       "  'Detroit Pistons',\n",
       "  'New Orleans Pelicans',\n",
       "  'A',\n",
       "  'BB',\n",
       "  '6.14',\n",
       "  'Detroit Pistons',\n",
       "  '1.13',\n",
       "  'New Orleans Pelicans',\n",
       "  '2.68',\n",
       "  'Casa (+8.5)',\n",
       "  '1.48',\n",
       "  'Fora (-8.5)',\n",
       "  'unfold_more',\n",
       "  '1.61',\n",
       "  'Mais de 213.5',\n",
       "  '2.33',\n",
       "  'Menos de 213.5',\n",
       "  'unfold_more',\n",
       "  'equalizer',\n",
       "  '+604'],\n",
       " ['16:30',\n",
       "  '82740',\n",
       "  'LA Clippers',\n",
       "  'Philadelphia 76ers',\n",
       "  'A',\n",
       "  'BB',\n",
       "  '1.21',\n",
       "  'LA Clippers',\n",
       "  '4.47',\n",
       "  'Philadelphia 76ers',\n",
       "  '1.52',\n",
       "  'Casa (-6.5)',\n",
       "  '2.55',\n",
       "  'Fora (+6.5)',\n",
       "  'unfold_more',\n",
       "  '1.65',\n",
       "  'Mais de 211.5',\n",
       "  '2.25',\n",
       "  'Menos de 211.5',\n",
       "  'unfold_more',\n",
       "  'equalizer',\n",
       "  '+538'],\n",
       " ['20:00',\n",
       "  '83087',\n",
       "  'Minnesota Timberwolves',\n",
       "  'Golden State Warriors',\n",
       "  'A',\n",
       "  'BB',\n",
       "  '1.76',\n",
       "  'Minnesota Timberwolves',\n",
       "  '2.07',\n",
       "  'Golden State Warriors',\n",
       "  '1.69',\n",
       "  'Casa (+1.5)',\n",
       "  '2.18',\n",
       "  'Fora (-1.5)',\n",
       "  'unfold_more',\n",
       "  '1.65',\n",
       "  'Mais de 216.5',\n",
       "  '2.25',\n",
       "  'Menos de 216.5',\n",
       "  'unfold_more',\n",
       "  'equalizer',\n",
       "  '+537'],\n",
       " ['20:00',\n",
       "  '83217',\n",
       "  'Milwaukee Bucks',\n",
       "  'Oklahoma City Thunders',\n",
       "  'A',\n",
       "  'BB',\n",
       "  '1.70',\n",
       "  'Milwaukee Bucks',\n",
       "  '2.17',\n",
       "  'Oklahoma City Thunders',\n",
       "  '1.63',\n",
       "  'Casa (+1.5)',\n",
       "  '2.29',\n",
       "  'Fora (-1.5)',\n",
       "  'unfold_more',\n",
       "  '1.70',\n",
       "  'Mais de 228.5',\n",
       "  '2.16',\n",
       "  'Menos de 228.5',\n",
       "  'unfold_more',\n",
       "  'equalizer',\n",
       "  '+657'],\n",
       " ['23:00',\n",
       "  '83132',\n",
       "  'LA Lakers',\n",
       "  'Indiana Pacers',\n",
       "  'A',\n",
       "  'BB',\n",
       "  '1.63',\n",
       "  'LA Lakers',\n",
       "  '2.29',\n",
       "  'Indiana Pacers',\n",
       "  '1.57',\n",
       "  'Casa (+1.5)',\n",
       "  '2.41',\n",
       "  'Fora (-1.5)',\n",
       "  'unfold_more',\n",
       "  '1.61',\n",
       "  'Mais de 236.5',\n",
       "  '2.33',\n",
       "  'Menos de 236.5',\n",
       "  'unfold_more',\n",
       "  'equalizer',\n",
       "  '+552']]"
      ]
     },
     "execution_count": 14,
     "metadata": {},
     "output_type": "execute_result"
    }
   ],
   "source": [
    "matches"
   ]
  },
  {
   "cell_type": "code",
   "execution_count": null,
   "id": "855f195f-7757-42a5-882f-688db66611f4",
   "metadata": {},
   "outputs": [],
   "source": []
  }
 ],
 "metadata": {
  "kernelspec": {
   "display_name": "Python 3 (ipykernel)",
   "language": "python",
   "name": "python3"
  },
  "language_info": {
   "codemirror_mode": {
    "name": "ipython",
    "version": 3
   },
   "file_extension": ".py",
   "mimetype": "text/x-python",
   "name": "python",
   "nbconvert_exporter": "python",
   "pygments_lexer": "ipython3",
   "version": "3.12.2"
  }
 },
 "nbformat": 4,
 "nbformat_minor": 5
}
