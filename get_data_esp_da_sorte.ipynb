{
 "cells": [
  {
   "cell_type": "code",
   "execution_count": 1,
   "id": "0943b28f-2c2f-48d5-8230-fe82a00a447b",
   "metadata": {},
   "outputs": [],
   "source": [
    "from app.config.environment_variables import BETANO, PIXBET, ESP_DA_SORTE, VAI_DE_BET, ESTRELA_BET, SPORTING_BET\n",
    "from app.packages.browser.playwright_esp_da_sorte import async_get_html_content\n",
    "import asyncio"
   ]
  },
  {
   "cell_type": "code",
   "execution_count": 2,
   "id": "2f30babd-3e40-4e52-8798-10f615011caf",
   "metadata": {},
   "outputs": [],
   "source": [
    "loop = asyncio.get_event_loop()\n",
    "future = asyncio.run_coroutine_threadsafe(async_get_html_content(\"https://www.esportesdasorte.com/ptb/bet/basketball/usa/nba-23-24\"), loop)"
   ]
  },
  {
   "cell_type": "code",
   "execution_count": 3,
   "id": "a00ec22c-9ee2-4738-abf8-207ab7848b28",
   "metadata": {},
   "outputs": [],
   "source": [
    "content = future.result()"
   ]
  },
  {
   "cell_type": "code",
   "execution_count": 4,
   "id": "570ef078-4232-40e2-8590-fbf83f3b9622",
   "metadata": {},
   "outputs": [],
   "source": [
    "from selectolax.parser import HTMLParser"
   ]
  },
  {
   "cell_type": "code",
   "execution_count": 5,
   "id": "34288545-af08-43b2-b6e0-9dfc9da6d056",
   "metadata": {},
   "outputs": [],
   "source": [
    "content = HTMLParser(content)"
   ]
  },
  {
   "cell_type": "code",
   "execution_count": 6,
   "id": "11cdcecc-013f-41b5-8fe5-c16e550730f9",
   "metadata": {},
   "outputs": [],
   "source": [
    "children = content.css(\".modul-content > .fixture-container > .fixture-body\")"
   ]
  },
  {
   "cell_type": "code",
   "execution_count": 7,
   "id": "de62c0e4-08a1-4685-9e4f-c7f587a3aad2",
   "metadata": {},
   "outputs": [],
   "source": [
    "def get_matches(children):\n",
    "    matches = []\n",
    "    for child in children:\n",
    "        match = child.text(deep=True, separator=\"--\")\n",
    "        match = [m.strip() for m in match.split(\"--\")][:9]\n",
    "        matches.append(match)\n",
    "    return matches"
   ]
  },
  {
   "cell_type": "code",
   "execution_count": 8,
   "id": "69e2efab-42cf-4178-9c0d-c91a14d7b239",
   "metadata": {},
   "outputs": [],
   "source": [
    "matches = get_matches(children)"
   ]
  },
  {
   "cell_type": "code",
   "execution_count": 9,
   "id": "9ba7c476-9ef5-417d-8c9a-887c78607b68",
   "metadata": {},
   "outputs": [
    {
     "data": {
      "text/plain": [
       "[['20:00',\n",
       "  '78359',\n",
       "  'Indiana Pacers',\n",
       "  'Cleveland Cavaliers',\n",
       "  'A',\n",
       "  'BB',\n",
       "  '1.34',\n",
       "  'Indiana Pacers',\n",
       "  '3.28'],\n",
       " ['20:30',\n",
       "  '78549',\n",
       "  'Boston Celtics',\n",
       "  'Detroit Pistons',\n",
       "  'A',\n",
       "  'BB',\n",
       "  '1.07',\n",
       "  'Boston Celtics',\n",
       "  '8.73'],\n",
       " ['20:30',\n",
       "  '78541',\n",
       "  'Philadelphia 76ers',\n",
       "  'Miami Heat',\n",
       "  'A',\n",
       "  'BB',\n",
       "  '1.73',\n",
       "  'Philadelphia 76ers',\n",
       "  '2.12'],\n",
       " ['21:00',\n",
       "  '78424',\n",
       "  'Chicago Bulls',\n",
       "  'Portland Trail Blazers',\n",
       "  'A',\n",
       "  'BB',\n",
       "  '1.30',\n",
       "  'Chicago Bulls',\n",
       "  '3.59'],\n",
       " ['22:00',\n",
       "  '76975',\n",
       "  'Utah Jazz',\n",
       "  'Minnesota Timberwolves',\n",
       "  'A',\n",
       "  'BB',\n",
       "  '4.20',\n",
       "  'Utah Jazz',\n",
       "  '1.23'],\n",
       " ['23:00',\n",
       "  '77940',\n",
       "  'Golden State Warriors',\n",
       "  'NY Knicks',\n",
       "  'A',\n",
       "  'BB',\n",
       "  '1.51',\n",
       "  'Golden State Warriors',\n",
       "  '2.58'],\n",
       " ['23:00',\n",
       "  '78247',\n",
       "  'Sacramento Kings',\n",
       "  'Memphis Grizzlies',\n",
       "  'A',\n",
       "  'BB',\n",
       "  '1.22',\n",
       "  'Sacramento Kings',\n",
       "  '4.34'],\n",
       " ['23:30',\n",
       "  '78665',\n",
       "  'LA Lakers',\n",
       "  'Atlanta Hawks',\n",
       "  'A',\n",
       "  'BB',\n",
       "  '1.26',\n",
       "  'LA Lakers',\n",
       "  '3.87']]"
      ]
     },
     "execution_count": 9,
     "metadata": {},
     "output_type": "execute_result"
    }
   ],
   "source": [
    "matches"
   ]
  },
  {
   "cell_type": "code",
   "execution_count": null,
   "id": "855f195f-7757-42a5-882f-688db66611f4",
   "metadata": {},
   "outputs": [],
   "source": []
  }
 ],
 "metadata": {
  "kernelspec": {
   "display_name": "Python 3 (ipykernel)",
   "language": "python",
   "name": "python3"
  },
  "language_info": {
   "codemirror_mode": {
    "name": "ipython",
    "version": 3
   },
   "file_extension": ".py",
   "mimetype": "text/x-python",
   "name": "python",
   "nbconvert_exporter": "python",
   "pygments_lexer": "ipython3",
   "version": "3.12.2"
  }
 },
 "nbformat": 4,
 "nbformat_minor": 5
}
