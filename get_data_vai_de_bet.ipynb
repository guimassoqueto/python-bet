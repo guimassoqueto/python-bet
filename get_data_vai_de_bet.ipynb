{
 "cells": [
  {
   "cell_type": "code",
   "execution_count": 1,
   "id": "bb04c6a9-aa34-4d3f-aecb-f33ed6e8f61c",
   "metadata": {},
   "outputs": [],
   "source": [
    "from app.config.environment_variables import BETANO, PIXBET, ESP_DA_SORTE, VAI_DE_BET, ESTRELA_BET, SPORTING_BET\n",
    "from app.packages.browser.playwright import async_get_html_content\n",
    "from app.packages.browser.playwright import async_get_html_content\n",
    "import asyncio"
   ]
  },
  {
   "cell_type": "code",
   "execution_count": 2,
   "id": "868d480f-8e24-4ca9-96d5-3cf85e2fc3ce",
   "metadata": {},
   "outputs": [],
   "source": [
    "loop = asyncio.get_event_loop()\n",
    "future = asyncio.run_coroutine_threadsafe(async_get_html_content(\"https://vaidebet.com/ptb/bet/basketball/usa/nba-23-24\"), loop)"
   ]
  },
  {
   "cell_type": "code",
   "execution_count": 13,
   "id": "436c3da4-121d-46ae-bf48-51f60bda2d1c",
   "metadata": {},
   "outputs": [],
   "source": [
    "content = future.result()"
   ]
  },
  {
   "cell_type": "code",
   "execution_count": 14,
   "id": "bfbe9962-5817-4c35-af81-ecc28b69b141",
   "metadata": {},
   "outputs": [],
   "source": [
    "from selectolax.parser import HTMLParser"
   ]
  },
  {
   "cell_type": "code",
   "execution_count": 15,
   "id": "66f847b9-1c86-4ee1-8705-ed45e9aab129",
   "metadata": {},
   "outputs": [],
   "source": [
    "content = HTMLParser(content)"
   ]
  },
  {
   "cell_type": "code",
   "execution_count": 16,
   "id": "0ba1b2e3-3239-4fbc-b296-5328b5ef1839",
   "metadata": {},
   "outputs": [],
   "source": [
    "def get_all_children(content: HTMLParser, selector):\n",
    "    nodes = content.css(selector)\n",
    "    children = []\n",
    "    for node in nodes:\n",
    "        children.extend([HTMLParser(child.html) for child in node.iter()])\n",
    "    return children"
   ]
  },
  {
   "cell_type": "code",
   "execution_count": 17,
   "id": "a54b4561-339d-45f2-8057-8889a709d410",
   "metadata": {},
   "outputs": [],
   "source": [
    "children = get_all_children(content, \".modul-content > .fixture-container\")"
   ]
  },
  {
   "cell_type": "code",
   "execution_count": 18,
   "id": "798806d7-ffad-4c35-a779-a886cebd7369",
   "metadata": {},
   "outputs": [],
   "source": [
    "def get_matches(children):\n",
    "    matches = []\n",
    "    for c in children:\n",
    "        child_inner_text = c.text(deep=True, separator=\"--\")\n",
    "        match = [m.strip() for m in child_inner_text.split(\"--\")]\n",
    "        if len(match) >= 15:\n",
    "            matches.append(match)\n",
    "    return matches"
   ]
  },
  {
   "cell_type": "code",
   "execution_count": 19,
   "id": "1f938a01-5588-4528-8f4d-3ba670ca069e",
   "metadata": {},
   "outputs": [],
   "source": [
    "matches = get_matches(children)"
   ]
  },
  {
   "cell_type": "code",
   "execution_count": 20,
   "id": "5ef83d75-f077-4974-a09e-0f766ab2548d",
   "metadata": {},
   "outputs": [
    {
     "data": {
      "text/plain": [
       "[['20:00',\n",
       "  '78359',\n",
       "  'star_border',\n",
       "  'Indiana Pacers',\n",
       "  'star_border',\n",
       "  'Cleveland Cavaliers',\n",
       "  'A',\n",
       "  'BB',\n",
       "  '1.60',\n",
       "  'Mais de 220.5',\n",
       "  '2.35',\n",
       "  'Menos de 220.5',\n",
       "  '1.37',\n",
       "  'Indiana Pacers',\n",
       "  '3.34',\n",
       "  'Cleveland Cavaliers',\n",
       "  '2.18',\n",
       "  'Fora (+5.5)',\n",
       "  '1.82',\n",
       "  'Casa (-6.5)',\n",
       "  'equalizer',\n",
       "  '+342'],\n",
       " ['20:30',\n",
       "  '78549',\n",
       "  'star_border',\n",
       "  'Boston Celtics',\n",
       "  'star_border',\n",
       "  'Detroit Pistons',\n",
       "  'A',\n",
       "  'BB',\n",
       "  '1.63',\n",
       "  'Mais de 220.5',\n",
       "  '2.29',\n",
       "  'Menos de 220.5',\n",
       "  '1.07',\n",
       "  'Boston Celtics',\n",
       "  '9.01',\n",
       "  'Detroit Pistons',\n",
       "  '1.56',\n",
       "  'Casa (-12.5)',\n",
       "  '2.45',\n",
       "  'Fora (+12.5)',\n",
       "  'equalizer',\n",
       "  '+331'],\n",
       " ['20:30',\n",
       "  '78541',\n",
       "  'star_border',\n",
       "  'Philadelphia 76ers',\n",
       "  'star_border',\n",
       "  'Miami Heat',\n",
       "  'A',\n",
       "  'BB',\n",
       "  '1.64',\n",
       "  'Mais de 205.5',\n",
       "  '2.27',\n",
       "  'Menos de 205.5',\n",
       "  '1.76',\n",
       "  'Philadelphia 76ers',\n",
       "  '2.16',\n",
       "  'Miami Heat',\n",
       "  '1.65',\n",
       "  'Casa (+1.5)',\n",
       "  '2.25',\n",
       "  'Fora (-1.5)',\n",
       "  'equalizer',\n",
       "  '+185'],\n",
       " ['21:00',\n",
       "  '78424',\n",
       "  'star_border',\n",
       "  'Chicago Bulls',\n",
       "  'star_border',\n",
       "  'Portland Trail Blazers',\n",
       "  'A',\n",
       "  'BB',\n",
       "  '1.65',\n",
       "  'Mais de 210.5',\n",
       "  '2.26',\n",
       "  'Menos de 210.5',\n",
       "  '1.32',\n",
       "  'Chicago Bulls',\n",
       "  '3.66',\n",
       "  'Portland Trail Blazers',\n",
       "  'equalizer',\n",
       "  '+479'],\n",
       " ['22:00',\n",
       "  '76975',\n",
       "  'star_border',\n",
       "  'Utah Jazz',\n",
       "  'star_border',\n",
       "  'Minnesota Timberwolves',\n",
       "  'A',\n",
       "  'BB',\n",
       "  '1.61',\n",
       "  'Mais de 218.5',\n",
       "  '2.33',\n",
       "  'Menos de 218.5',\n",
       "  '4.28',\n",
       "  'Utah Jazz',\n",
       "  '1.26',\n",
       "  'Minnesota Timberwolves',\n",
       "  'equalizer',\n",
       "  '+339'],\n",
       " ['23:00',\n",
       "  '77940',\n",
       "  'star_border',\n",
       "  'Golden State Warriors',\n",
       "  'star_border',\n",
       "  'NY Knicks',\n",
       "  'A',\n",
       "  'BB',\n",
       "  '1.63',\n",
       "  'Mais de 207.5',\n",
       "  '2.29',\n",
       "  'Menos de 207.5',\n",
       "  '1.54',\n",
       "  'Golden State Warriors',\n",
       "  '2.63',\n",
       "  'NY Knicks',\n",
       "  'equalizer',\n",
       "  '+523'],\n",
       " ['23:00',\n",
       "  '78247',\n",
       "  'star_border',\n",
       "  'Sacramento Kings',\n",
       "  'star_border',\n",
       "  'Memphis Grizzlies',\n",
       "  'A',\n",
       "  'BB',\n",
       "  '1.60',\n",
       "  'Mais de 220.5',\n",
       "  '2.36',\n",
       "  'Menos de 220.5',\n",
       "  '1.24',\n",
       "  'Sacramento Kings',\n",
       "  '4.42',\n",
       "  'Memphis Grizzlies',\n",
       "  'equalizer',\n",
       "  '+427'],\n",
       " ['23:30',\n",
       "  '78665',\n",
       "  'star_border',\n",
       "  'LA Lakers',\n",
       "  'star_border',\n",
       "  'Atlanta Hawks',\n",
       "  'A',\n",
       "  'BB',\n",
       "  '1.65',\n",
       "  'Mais de 223.5',\n",
       "  '2.26',\n",
       "  'Menos de 223.5',\n",
       "  '1.29',\n",
       "  'LA Lakers',\n",
       "  '3.95',\n",
       "  'Atlanta Hawks',\n",
       "  'equalizer',\n",
       "  '+168']]"
      ]
     },
     "execution_count": 20,
     "metadata": {},
     "output_type": "execute_result"
    }
   ],
   "source": [
    "matches"
   ]
  },
  {
   "cell_type": "code",
   "execution_count": null,
   "id": "a2af7e33-65b1-4ce1-b178-7f360b4a3f51",
   "metadata": {},
   "outputs": [],
   "source": []
  }
 ],
 "metadata": {
  "kernelspec": {
   "display_name": "Python 3 (ipykernel)",
   "language": "python",
   "name": "python3"
  },
  "language_info": {
   "codemirror_mode": {
    "name": "ipython",
    "version": 3
   },
   "file_extension": ".py",
   "mimetype": "text/x-python",
   "name": "python",
   "nbconvert_exporter": "python",
   "pygments_lexer": "ipython3",
   "version": "3.12.2"
  }
 },
 "nbformat": 4,
 "nbformat_minor": 5
}
