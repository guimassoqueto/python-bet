{
 "cells": [
  {
   "cell_type": "code",
   "execution_count": 1,
   "id": "ad0634b8-73c1-49bd-9376-5340713e4843",
   "metadata": {},
   "outputs": [],
   "source": [
    "from app.config.environment_variables import BETANO, PIXBET, ESP_DA_SORTE, VAI_DE_BET, ESTRELA_BET, SPORTING_BET\n",
    "from app.packages.browser.playwright_pixbet import async_get_html_content\n",
    "import asyncio"
   ]
  },
  {
   "cell_type": "code",
   "execution_count": 2,
   "id": "2c773bc4-f45c-454e-b2d1-ec10ee49a03b",
   "metadata": {},
   "outputs": [],
   "source": [
    "loop = asyncio.get_event_loop()\n",
    "future = asyncio.run_coroutine_threadsafe(async_get_html_content(\"https://pixbet.com/sports/tournament/s3u64?category=s2u4S48242\"), loop)"
   ]
  },
  {
   "cell_type": "code",
   "execution_count": 3,
   "id": "8aee4842-de00-4903-83ec-30768ce4f2d2",
   "metadata": {},
   "outputs": [],
   "source": [
    "content = future.result()"
   ]
  },
  {
   "cell_type": "code",
   "execution_count": 4,
   "id": "1b8a9023-8a06-4ec8-be21-81857c437a40",
   "metadata": {},
   "outputs": [],
   "source": [
    "from selectolax.parser import HTMLParser"
   ]
  },
  {
   "cell_type": "code",
   "execution_count": 5,
   "id": "1a6b57c0-0cef-4c9a-aaa8-0bdab758c1a6",
   "metadata": {},
   "outputs": [],
   "source": [
    "content = HTMLParser(content)"
   ]
  },
  {
   "cell_type": "code",
   "execution_count": 6,
   "id": "ab8fc39e-dd27-4033-9249-97389b88629a",
   "metadata": {},
   "outputs": [],
   "source": [
    "def get_all_children(content: HTMLParser, selector):\n",
    "    nodes = content.css(selector)\n",
    "    children = []\n",
    "    for node in nodes:\n",
    "        children.extend([HTMLParser(child.html) for child in node.iter()])\n",
    "    return children"
   ]
  },
  {
   "cell_type": "code",
   "execution_count": 7,
   "id": "611cef77-f433-4bd6-aaf9-37e6fd28e7e2",
   "metadata": {},
   "outputs": [],
   "source": [
    "children = get_all_children(content, \".container.container--fluid.mt-0.pb-0.px-0\")"
   ]
  },
  {
   "cell_type": "code",
   "execution_count": 8,
   "id": "3723dde5-e77f-4cb6-8a34-1790fb3cf946",
   "metadata": {},
   "outputs": [],
   "source": [
    "def get_matches(children):\n",
    "    matches = []\n",
    "    for child in children:\n",
    "        import re\n",
    "        child_inner_text = child.text(deep=True)\n",
    "        arr = re.sub(' {2,}', '__', child_inner_text).split(\"NBA\")\n",
    "        for match in arr:\n",
    "            match = [m.strip() for m in match.split(\"__\") if m.strip() != \"\"]\n",
    "            if len(match) == 7:\n",
    "                matches.append(match)\n",
    "    return matches"
   ]
  },
  {
   "cell_type": "code",
   "execution_count": 9,
   "id": "5793728f-d0db-4f49-a682-e79864c599c5",
   "metadata": {},
   "outputs": [],
   "source": [
    "matches = get_matches(children)"
   ]
  },
  {
   "cell_type": "code",
   "execution_count": 10,
   "id": "081b2628-5894-43d3-bea2-6ceecf6a19d7",
   "metadata": {},
   "outputs": [
    {
     "data": {
      "text/plain": [
       "[['Indiana Pacers',\n",
       "  'Hoje',\n",
       "  '20:00',\n",
       "  'Cleveland Cavaliers',\n",
       "  '1.40',\n",
       "  '3.39',\n",
       "  '+187'],\n",
       " ['Philadelphia 76ers', 'Hoje', '20:30', 'Miami Heat', '1.77', '2.24', '+233'],\n",
       " ['Boston Celtics',\n",
       "  'Hoje',\n",
       "  '20:30',\n",
       "  'Detroit Pistons',\n",
       "  '1.11',\n",
       "  '9.52',\n",
       "  '+195'],\n",
       " ['Chicago Bulls',\n",
       "  'Hoje',\n",
       "  '21:00',\n",
       "  'Portland Trail Blazers',\n",
       "  '1.35',\n",
       "  '3.71',\n",
       "  '+185'],\n",
       " ['Utah Jazz',\n",
       "  'Hoje',\n",
       "  '22:00',\n",
       "  'Minnesota Timberwolves',\n",
       "  '3.59',\n",
       "  '1.37',\n",
       "  '+189'],\n",
       " ['Sacramento Kings',\n",
       "  'Hoje',\n",
       "  '23:00',\n",
       "  'Memphis Grizzlies',\n",
       "  '1.26',\n",
       "  '4.68',\n",
       "  '+181'],\n",
       " ['Golden State Warriors',\n",
       "  'Hoje',\n",
       "  '23:00',\n",
       "  'New York Knicks',\n",
       "  '1.57',\n",
       "  '2.69',\n",
       "  '+187'],\n",
       " ['L.A. Lakers', 'Hoje', '23:30', 'Atlanta Hawks', '1.30', '4.11', '+177']]"
      ]
     },
     "execution_count": 10,
     "metadata": {},
     "output_type": "execute_result"
    }
   ],
   "source": [
    "matches"
   ]
  },
  {
   "cell_type": "code",
   "execution_count": null,
   "id": "4d7b5f68-2464-405c-ac25-599074b80044",
   "metadata": {},
   "outputs": [],
   "source": []
  }
 ],
 "metadata": {
  "kernelspec": {
   "display_name": "Python 3 (ipykernel)",
   "language": "python",
   "name": "python3"
  },
  "language_info": {
   "codemirror_mode": {
    "name": "ipython",
    "version": 3
   },
   "file_extension": ".py",
   "mimetype": "text/x-python",
   "name": "python",
   "nbconvert_exporter": "python",
   "pygments_lexer": "ipython3",
   "version": "3.12.2"
  }
 },
 "nbformat": 4,
 "nbformat_minor": 5
}
