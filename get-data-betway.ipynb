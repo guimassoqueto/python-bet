{
 "cells": [
  {
   "cell_type": "code",
   "execution_count": 1,
   "id": "ad0634b8-73c1-49bd-9376-5340713e4843",
   "metadata": {},
   "outputs": [],
   "source": [
    "from app.config.environment_variables import BETANO, PIXBET, ESP_DA_SORTE, VAI_DE_BET, ESTRELA_BET, SPORTING_BET\n",
    "from app.packages.browser.playwright import async_get_html_content\n",
    "import asyncio"
   ]
  },
  {
   "cell_type": "code",
   "execution_count": 2,
   "id": "2c773bc4-f45c-454e-b2d1-ec10ee49a03b",
   "metadata": {},
   "outputs": [],
   "source": [
    "loop = asyncio.get_event_loop()\n",
    "future = asyncio.run_coroutine_threadsafe(async_get_html_content(\"https://betway.com/pt/sports/grp/basketball/usa/nba\"), loop)"
   ]
  },
  {
   "cell_type": "code",
   "execution_count": 3,
   "id": "8aee4842-de00-4903-83ec-30768ce4f2d2",
   "metadata": {},
   "outputs": [],
   "source": [
    "content = future.result()"
   ]
  },
  {
   "cell_type": "code",
   "execution_count": 4,
   "id": "1b8a9023-8a06-4ec8-be21-81857c437a40",
   "metadata": {},
   "outputs": [],
   "source": [
    "from selectolax.parser import HTMLParser"
   ]
  },
  {
   "cell_type": "code",
   "execution_count": 5,
   "id": "1a6b57c0-0cef-4c9a-aaa8-0bdab758c1a6",
   "metadata": {},
   "outputs": [],
   "source": [
    "content = HTMLParser(content)"
   ]
  },
  {
   "cell_type": "code",
   "execution_count": 7,
   "id": "6d3cd605-839c-4d1b-8c36-af60a95e759f",
   "metadata": {},
   "outputs": [
    {
     "data": {
      "text/plain": [
       "<Node div>"
      ]
     },
     "execution_count": 7,
     "metadata": {},
     "output_type": "execute_result"
    }
   ],
   "source": [
    "content.css_first(\".collapsableContent\")"
   ]
  },
  {
   "cell_type": "code",
   "execution_count": 8,
   "id": "7404de42-f6b2-408c-92b9-f5a66b8b4a80",
   "metadata": {},
   "outputs": [],
   "source": [
    "def get_all_children(content: HTMLParser, selector):\n",
    "    nodes = content.css(selector)\n",
    "    children = []\n",
    "    for node in nodes:\n",
    "        children.extend([HTMLParser(child.html) for child in node.iter()])\n",
    "    return children"
   ]
  },
  {
   "cell_type": "code",
   "execution_count": 9,
   "id": "1d676a4d-4285-46b1-805b-574454e833a6",
   "metadata": {},
   "outputs": [],
   "source": [
    "children = get_all_children(content, \".eventItemCollection\")"
   ]
  },
  {
   "cell_type": "code",
   "execution_count": 34,
   "id": "3723dde5-e77f-4cb6-8a34-1790fb3cf946",
   "metadata": {},
   "outputs": [],
   "source": [
    "def get_matches(children):\n",
    "    matches = []\n",
    "    for child in children:\n",
    "        match = child.text(deep=True, separator=\"--\")\n",
    "        # remove espacos desnecessarios\n",
    "        match = [m.strip() for m in match.split(\"--\") if len(m.strip()) >= 2] #not in ('', '-', '●', ',', '@', 'Suspenso', 'Mais apostas')]\n",
    "        matches.append(match)\n",
    "    return matches"
   ]
  },
  {
   "cell_type": "code",
   "execution_count": 35,
   "id": "1833166a-4a06-49ed-a575-9b5e36cc26a7",
   "metadata": {},
   "outputs": [],
   "source": [
    "matches = get_matches(children)"
   ]
  },
  {
   "cell_type": "code",
   "execution_count": 36,
   "id": "7eaf2176-5e2a-4c8c-a425-e2fc67f163ce",
   "metadata": {},
   "outputs": [
    {
     "data": {
      "text/plain": [
       "[['74',\n",
       "  '80',\n",
       "  'Brooklyn Nets',\n",
       "  'New York Knicks',\n",
       "  '3º Quarto',\n",
       "  \"11'\",\n",
       "  'Mais apostas',\n",
       "  'Suspenso',\n",
       "  'Mais apostas',\n",
       "  '4,50',\n",
       "  '1,20'],\n",
       " ['20:00',\n",
       "  'Sacramento Kings',\n",
       "  'Orlando Magic',\n",
       "  'Mais apostas',\n",
       "  'Suspenso',\n",
       "  'Mais apostas',\n",
       "  '2,15',\n",
       "  '1,74'],\n",
       " ['20:30',\n",
       "  'Charlotte Hornets',\n",
       "  'Atlanta Hawks',\n",
       "  'Mais apostas',\n",
       "  'Suspenso',\n",
       "  'Mais apostas',\n",
       "  '3,75',\n",
       "  '1,30'],\n",
       " ['21:00',\n",
       "  'Boston Celtics',\n",
       "  'Chicago Bulls',\n",
       "  'Mais apostas',\n",
       "  'Suspenso',\n",
       "  'Mais apostas',\n",
       "  '1,47',\n",
       "  '2,75'],\n",
       " ['21:00',\n",
       "  'Utah Jazz',\n",
       "  'Houston Rockets',\n",
       "  'Mais apostas',\n",
       "  'Suspenso',\n",
       "  'Mais apostas',\n",
       "  '5,25',\n",
       "  '1,16'],\n",
       " ['21:00',\n",
       "  'Phoenix Suns',\n",
       "  'Spurs',\n",
       "  'Mais apostas',\n",
       "  'Suspenso',\n",
       "  'Mais apostas',\n",
       "  '1,20',\n",
       "  '4,75'],\n",
       " ['21:00',\n",
       "  'Toronto Raptors',\n",
       "  'Washington Wizards',\n",
       "  'Mais apostas',\n",
       "  'Suspenso',\n",
       "  'Mais apostas',\n",
       "  '2,85',\n",
       "  '1,44'],\n",
       " ['23:00',\n",
       "  'Denver Nuggets',\n",
       "  'Portland Trail Blazers',\n",
       "  'Mais apostas',\n",
       "  'Suspenso',\n",
       "  'Mais apostas',\n",
       "  '1,11',\n",
       "  '7,00']]"
      ]
     },
     "execution_count": 36,
     "metadata": {},
     "output_type": "execute_result"
    }
   ],
   "source": [
    "matches"
   ]
  },
  {
   "cell_type": "code",
   "execution_count": 13,
   "id": "f915496f-802d-47be-aadd-290276e3531e",
   "metadata": {},
   "outputs": [
    {
     "data": {
      "text/plain": [
       "[<HTMLParser chars=5389>,\n",
       " <HTMLParser chars=5126>,\n",
       " <HTMLParser chars=5127>,\n",
       " <HTMLParser chars=5124>,\n",
       " <HTMLParser chars=5111>,\n",
       " <HTMLParser chars=5094>,\n",
       " <HTMLParser chars=5130>,\n",
       " <HTMLParser chars=5133>]"
      ]
     },
     "execution_count": 13,
     "metadata": {},
     "output_type": "execute_result"
    }
   ],
   "source": [
    "children"
   ]
  },
  {
   "cell_type": "code",
   "execution_count": null,
   "id": "2b9fc188-4c23-4be0-870d-ca1f89b4500a",
   "metadata": {},
   "outputs": [],
   "source": []
  }
 ],
 "metadata": {
  "kernelspec": {
   "display_name": "Python 3 (ipykernel)",
   "language": "python",
   "name": "python3"
  },
  "language_info": {
   "codemirror_mode": {
    "name": "ipython",
    "version": 3
   },
   "file_extension": ".py",
   "mimetype": "text/x-python",
   "name": "python",
   "nbconvert_exporter": "python",
   "pygments_lexer": "ipython3",
   "version": "3.12.2"
  }
 },
 "nbformat": 4,
 "nbformat_minor": 5
}
