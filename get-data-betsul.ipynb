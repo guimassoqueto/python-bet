{
 "cells": [
  {
   "cell_type": "code",
   "execution_count": 16,
   "id": "ad0634b8-73c1-49bd-9376-5340713e4843",
   "metadata": {},
   "outputs": [],
   "source": [
    "from app.config.environment_variables import BETANO, PIXBET, ESP_DA_SORTE, VAI_DE_BET, ESTRELA_BET, SPORTING_BET\n",
    "from app.packages.browser.playwright import async_get_html_content\n",
    "import asyncio"
   ]
  },
  {
   "cell_type": "code",
   "execution_count": 17,
   "id": "2c773bc4-f45c-454e-b2d1-ec10ee49a03b",
   "metadata": {},
   "outputs": [],
   "source": [
    "loop = asyncio.get_event_loop()\n",
    "future = asyncio.run_coroutine_threadsafe(async_get_html_content(\"https://www.betsul.com/esportes/futebol/brasil/brasileirao-serie-a\"), loop)"
   ]
  },
  {
   "cell_type": "code",
   "execution_count": 18,
   "id": "8aee4842-de00-4903-83ec-30768ce4f2d2",
   "metadata": {},
   "outputs": [],
   "source": [
    "content = future.result()"
   ]
  },
  {
   "cell_type": "code",
   "execution_count": 19,
   "id": "1b8a9023-8a06-4ec8-be21-81857c437a40",
   "metadata": {},
   "outputs": [],
   "source": [
    "from selectolax.parser import HTMLParser"
   ]
  },
  {
   "cell_type": "code",
   "execution_count": 20,
   "id": "1a6b57c0-0cef-4c9a-aaa8-0bdab758c1a6",
   "metadata": {},
   "outputs": [],
   "source": [
    "content = HTMLParser(content)"
   ]
  },
  {
   "cell_type": "code",
   "execution_count": 21,
   "id": "7404de42-f6b2-408c-92b9-f5a66b8b4a80",
   "metadata": {},
   "outputs": [],
   "source": [
    "def get_all_children(content: HTMLParser, selector):\n",
    "    nodes = content.css(selector)\n",
    "    children = []\n",
    "    for node in nodes:\n",
    "        children.extend([HTMLParser(child.html) for child in node.iter()])\n",
    "    return children"
   ]
  },
  {
   "cell_type": "code",
   "execution_count": 22,
   "id": "1d676a4d-4285-46b1-805b-574454e833a6",
   "metadata": {},
   "outputs": [],
   "source": [
    "children = get_all_children(content, \".we-eventlist-group\")"
   ]
  },
  {
   "cell_type": "code",
   "execution_count": 23,
   "id": "3723dde5-e77f-4cb6-8a34-1790fb3cf946",
   "metadata": {},
   "outputs": [],
   "source": [
    "def get_matches(children):\n",
    "    matches = []\n",
    "    for child in children:\n",
    "        match = child.text(deep=True, separator=\"--\")\n",
    "        # remove espacos desnecessarios\n",
    "        match = [m.strip() for m in match.split(\"--\")]\n",
    "        matches.append(match)\n",
    "    return matches"
   ]
  },
  {
   "cell_type": "code",
   "execution_count": 24,
   "id": "1833166a-4a06-49ed-a575-9b5e36cc26a7",
   "metadata": {},
   "outputs": [],
   "source": [
    "matches = get_matches(children)"
   ]
  },
  {
   "cell_type": "code",
   "execution_count": 25,
   "id": "7eaf2176-5e2a-4c8c-a425-e2fc67f163ce",
   "metadata": {},
   "outputs": [
    {
     "name": "stdout",
     "output_type": "stream",
     "text": [
      "['Brasileirão - Série A', 'Criciúma', 'Juventude', '16:00', '13/04', 'Estatisticas', '2.02', '3.19', '3.56', '1.60', '2.18']\n",
      "['Brasileirão - Série A', 'Vasco', 'Grêmio', '16:00', '13/04', 'Estatisticas', '2.29', '3.20', '2.95', '1.64', '2.09']\n",
      "['Brasileirão - Série A', 'Cruzeiro', 'Botafogo', '16:00', '13/04', 'Estatisticas', '2.16', '3.13', '3.30', '1.59', '2.19']\n",
      "['Brasileirão - Série A', 'Athletico PR', 'Cuiabá', '16:00', '13/04', 'Estatisticas', '1.74', '3.37', '4.63', '1.58', '2.21']\n",
      "['Brasileirão - Série A', 'Fluminense', 'Red Bull Bragantino', '16:00', '13/04', 'Estatisticas', '1.74', '3.45', '4.51', '1.89', '1.79']\n",
      "['Brasileirão - Série A', 'Internacional', 'Bahia', '16:00', '13/04', 'Estatisticas', '1.73', '3.55', '4.42', '1.71', '1.99']\n",
      "['Brasileirão - Série A', 'Vitória', 'Palmeiras', '16:00', '13/04', 'Estatisticas', '6.18', '4.26', '1.45', '2.04', '1.67']\n",
      "['Brasileirão - Série A', 'São Paulo', 'Fortaleza', '16:00', '13/04', 'Estatisticas', '1.80', '3.43', '4.19', '1.67', '2.02']\n",
      "['Brasileirão - Série A', 'Corinthians', 'Atlético MG', '16:00', '13/04', 'Estatisticas', '2.45', '2.93', '2.97', '1.50', '2.39']\n"
     ]
    }
   ],
   "source": [
    "for m in matches:\n",
    "    if len(m) > 1:\n",
    "        print(m)"
   ]
  },
  {
   "cell_type": "code",
   "execution_count": null,
   "id": "ce83f377-f69a-4dad-b7fd-c71802d54204",
   "metadata": {},
   "outputs": [],
   "source": []
  }
 ],
 "metadata": {
  "kernelspec": {
   "display_name": "Python 3 (ipykernel)",
   "language": "python",
   "name": "python3"
  },
  "language_info": {
   "codemirror_mode": {
    "name": "ipython",
    "version": 3
   },
   "file_extension": ".py",
   "mimetype": "text/x-python",
   "name": "python",
   "nbconvert_exporter": "python",
   "pygments_lexer": "ipython3",
   "version": "3.12.2"
  }
 },
 "nbformat": 4,
 "nbformat_minor": 5
}
