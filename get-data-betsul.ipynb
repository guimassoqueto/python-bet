{
 "cells": [
  {
   "cell_type": "code",
   "execution_count": 2,
   "id": "ad0634b8-73c1-49bd-9376-5340713e4843",
   "metadata": {},
   "outputs": [],
   "source": [
    "from app.config.environment_variables import BETANO, PIXBET, ESP_DA_SORTE, VAI_DE_BET, ESTRELA_BET, SPORTING_BET\n",
    "from app.packages.browser.playwright import async_get_html_content\n",
    "import asyncio"
   ]
  },
  {
   "cell_type": "code",
   "execution_count": 24,
   "id": "2c773bc4-f45c-454e-b2d1-ec10ee49a03b",
   "metadata": {},
   "outputs": [],
   "source": [
    "loop = asyncio.get_event_loop()\n",
    "future = asyncio.run_coroutine_threadsafe(async_get_html_content(\"https://www.betsul.com/esportes/basquete/eua/nba\"), loop)"
   ]
  },
  {
   "cell_type": "code",
   "execution_count": 25,
   "id": "8aee4842-de00-4903-83ec-30768ce4f2d2",
   "metadata": {},
   "outputs": [],
   "source": [
    "content = future.result()"
   ]
  },
  {
   "cell_type": "code",
   "execution_count": 26,
   "id": "1b8a9023-8a06-4ec8-be21-81857c437a40",
   "metadata": {},
   "outputs": [],
   "source": [
    "from selectolax.parser import HTMLParser"
   ]
  },
  {
   "cell_type": "code",
   "execution_count": 27,
   "id": "1a6b57c0-0cef-4c9a-aaa8-0bdab758c1a6",
   "metadata": {},
   "outputs": [],
   "source": [
    "content = HTMLParser(content)"
   ]
  },
  {
   "cell_type": "code",
   "execution_count": 28,
   "id": "6d3cd605-839c-4d1b-8c36-af60a95e759f",
   "metadata": {},
   "outputs": [
    {
     "data": {
      "text/plain": [
       "<Node div>"
      ]
     },
     "execution_count": 28,
     "metadata": {},
     "output_type": "execute_result"
    }
   ],
   "source": [
    "content.css_first(\".we-eventlist-group\")"
   ]
  },
  {
   "cell_type": "code",
   "execution_count": 29,
   "id": "7404de42-f6b2-408c-92b9-f5a66b8b4a80",
   "metadata": {},
   "outputs": [],
   "source": [
    "def get_all_children(content: HTMLParser, selector):\n",
    "    nodes = content.css(selector)\n",
    "    children = []\n",
    "    for node in nodes:\n",
    "        children.extend([HTMLParser(child.html) for child in node.iter()])\n",
    "    return children"
   ]
  },
  {
   "cell_type": "code",
   "execution_count": 30,
   "id": "1d676a4d-4285-46b1-805b-574454e833a6",
   "metadata": {},
   "outputs": [],
   "source": [
    "children = get_all_children(content, \".we-eventlist-group\")"
   ]
  },
  {
   "cell_type": "code",
   "execution_count": 31,
   "id": "3723dde5-e77f-4cb6-8a34-1790fb3cf946",
   "metadata": {},
   "outputs": [],
   "source": [
    "def get_matches(children):\n",
    "    matches = []\n",
    "    for child in children:\n",
    "        match = child.text(deep=True, separator=\"--\")\n",
    "        # remove espacos desnecessarios\n",
    "        match = [m.strip() for m in match.split(\"--\")]\n",
    "        matches.append(match)\n",
    "    return matches"
   ]
  },
  {
   "cell_type": "code",
   "execution_count": 32,
   "id": "1833166a-4a06-49ed-a575-9b5e36cc26a7",
   "metadata": {},
   "outputs": [],
   "source": [
    "matches = get_matches(children)"
   ]
  },
  {
   "cell_type": "code",
   "execution_count": 33,
   "id": "7eaf2176-5e2a-4c8c-a425-e2fc67f163ce",
   "metadata": {},
   "outputs": [
    {
     "data": {
      "text/plain": [
       "[['NBA',\n",
       "  'Orlando Magic',\n",
       "  'Sacramento Kings',\n",
       "  '20:00',\n",
       "  'Hoje',\n",
       "  'Estatisticas',\n",
       "  '1.74',\n",
       "  '2.10'],\n",
       " ['NBA',\n",
       "  'Atlanta Hawks',\n",
       "  'Charlotte Hornets',\n",
       "  '20:30',\n",
       "  'Hoje',\n",
       "  'Estatisticas',\n",
       "  '1.31',\n",
       "  '3.55'],\n",
       " ['NBA',\n",
       "  'Houston Rockets',\n",
       "  'Utah Jazz',\n",
       "  '21:00',\n",
       "  'Hoje',\n",
       "  'Estatisticas',\n",
       "  '1.15',\n",
       "  '4.99'],\n",
       " ['NBA',\n",
       "  'San Antonio Spurs',\n",
       "  'Phoenix Suns',\n",
       "  '21:00',\n",
       "  'Hoje',\n",
       "  'Estatisticas',\n",
       "  '4.47',\n",
       "  '1.22'],\n",
       " ['NBA',\n",
       "  'Washington Wizards',\n",
       "  'Toronto Raptors',\n",
       "  '21:00',\n",
       "  'Hoje',\n",
       "  'Estatisticas',\n",
       "  '1.47',\n",
       "  '2.72'],\n",
       " ['NBA',\n",
       "  'Portland Trail Blazers',\n",
       "  'Denver Nuggets',\n",
       "  '23:00',\n",
       "  'Hoje',\n",
       "  'Estatisticas',\n",
       "  '6.20',\n",
       "  '1.12'],\n",
       " ['NBA',\n",
       "  'Detroit Pistons',\n",
       "  'New Orleans Pelicans',\n",
       "  '16:00',\n",
       "  'Amanhã',\n",
       "  'Estatisticas',\n",
       "  '5.29',\n",
       "  '1.14'],\n",
       " ['NBA',\n",
       "  'Los Angeles Clippers',\n",
       "  'Philadelphia 76ers',\n",
       "  '16:30',\n",
       "  'Amanhã',\n",
       "  'Estatisticas',\n",
       "  '1.21',\n",
       "  '4.54'],\n",
       " ['NBA',\n",
       "  'Miami Heat',\n",
       "  'Cleveland Cavaliers',\n",
       "  '19:00',\n",
       "  'Amanhã',\n",
       "  'Estatisticas',\n",
       "  '1.53',\n",
       "  '2.50'],\n",
       " ['NBA',\n",
       "  'Milwaukee Bucks',\n",
       "  'Oklahoma City Thunder',\n",
       "  '20:00',\n",
       "  'Amanhã',\n",
       "  'Estatisticas',\n",
       "  '1.72',\n",
       "  '2.12'],\n",
       " ['NBA',\n",
       "  'Minnesota Timberwolves',\n",
       "  'Golden State Warriors',\n",
       "  '20:00',\n",
       "  'Amanhã',\n",
       "  'Estatisticas',\n",
       "  '1.58',\n",
       "  '2.42'],\n",
       " ['NBA',\n",
       "  'Los Angeles Lakers',\n",
       "  'Indiana Pacers',\n",
       "  '23:00',\n",
       "  'Amanhã',\n",
       "  'Estatisticas',\n",
       "  '1.67',\n",
       "  '2.21']]"
      ]
     },
     "execution_count": 33,
     "metadata": {},
     "output_type": "execute_result"
    }
   ],
   "source": [
    "matches[1:]"
   ]
  }
 ],
 "metadata": {
  "kernelspec": {
   "display_name": "Python 3 (ipykernel)",
   "language": "python",
   "name": "python3"
  },
  "language_info": {
   "codemirror_mode": {
    "name": "ipython",
    "version": 3
   },
   "file_extension": ".py",
   "mimetype": "text/x-python",
   "name": "python",
   "nbconvert_exporter": "python",
   "pygments_lexer": "ipython3",
   "version": "3.12.2"
  }
 },
 "nbformat": 4,
 "nbformat_minor": 5
}
