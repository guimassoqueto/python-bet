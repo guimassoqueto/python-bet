{
 "cells": [
  {
   "cell_type": "code",
   "execution_count": 1,
   "id": "ad0634b8-73c1-49bd-9376-5340713e4843",
   "metadata": {},
   "outputs": [],
   "source": [
    "from app.config.environment_variables import BETANO, PIXBET, ESP_DA_SORTE, VAI_DE_BET, ESTRELA_BET, SPORTING_BET\n",
    "from app.packages.browser.playwright import async_get_html_content\n",
    "import asyncio"
   ]
  },
  {
   "cell_type": "code",
   "execution_count": 2,
   "id": "2c773bc4-f45c-454e-b2d1-ec10ee49a03b",
   "metadata": {},
   "outputs": [],
   "source": [
    "loop = asyncio.get_event_loop()\n",
    "future = asyncio.run_coroutine_threadsafe(async_get_html_content(\"https://sports.sportingbet.com/pt-br/sports/basquete-7/aposta/am%C3%A9rica-do-norte-9/nba-6004\"), loop)"
   ]
  },
  {
   "cell_type": "code",
   "execution_count": 3,
   "id": "8aee4842-de00-4903-83ec-30768ce4f2d2",
   "metadata": {},
   "outputs": [],
   "source": [
    "content = future.result()"
   ]
  },
  {
   "cell_type": "code",
   "execution_count": 4,
   "id": "1b8a9023-8a06-4ec8-be21-81857c437a40",
   "metadata": {},
   "outputs": [],
   "source": [
    "from selectolax.parser import HTMLParser"
   ]
  },
  {
   "cell_type": "code",
   "execution_count": 5,
   "id": "1a6b57c0-0cef-4c9a-aaa8-0bdab758c1a6",
   "metadata": {},
   "outputs": [],
   "source": [
    "content = HTMLParser(content)"
   ]
  },
  {
   "cell_type": "code",
   "execution_count": 6,
   "id": "4d7b5f68-2464-405c-ac25-599074b80044",
   "metadata": {},
   "outputs": [],
   "source": [
    "children = content.css(\"ms-six-pack-event\")"
   ]
  },
  {
   "cell_type": "code",
   "execution_count": 7,
   "id": "d624421e-c6c6-4bb1-b082-17a8e9adfb01",
   "metadata": {},
   "outputs": [],
   "source": [
    "def get_matches(children):\n",
    "    matches = []\n",
    "    for child in children:\n",
    "        child_inner_text = child.text(deep=True, separator=\"--\")\n",
    "        match = [m.strip() for m in child_inner_text.split(\"--\")]\n",
    "        match = [match[3], match[0], match[2], match[-2], match[-1]]\n",
    "        matches.append(match)\n",
    "    return matches"
   ]
  },
  {
   "cell_type": "code",
   "execution_count": 8,
   "id": "0bd31df9-389f-4055-8a15-20e6dc342e12",
   "metadata": {},
   "outputs": [],
   "source": [
    "matches = get_matches(children)"
   ]
  },
  {
   "cell_type": "code",
   "execution_count": 9,
   "id": "043d9852-90b8-4872-9f91-b300d8a2a065",
   "metadata": {},
   "outputs": [
    {
     "data": {
      "text/plain": [
       "[['Hoje / 20:10', 'Cleveland Cavaliers', 'Indiana Pacers', '3.40', '1.33'],\n",
       " ['Hoje / 20:40', 'Detroit Pistons', 'Boston Celtics', '9.50', '1.06'],\n",
       " ['Hoje / 20:40', 'Miami Heat', 'Philadelphia 76ers', '2.20', '1.70'],\n",
       " ['Hoje / 21:10', 'Portland Trail Blazers', 'Chicago Bulls', '3.60', '1.30'],\n",
       " ['Hoje / 22:10', 'Minnesota Timberwolves', 'Utah Jazz', '1.30', '3.60'],\n",
       " ['Hoje / 23:10', 'New York Knicks', 'Golden State Warriors', '2.55', '1.53'],\n",
       " ['Hoje / 23:10', 'Memphis Grizzlies', 'Sacramento Kings', '4.40', '1.22'],\n",
       " ['Hoje / 23:40', 'Atlanta Hawks', 'Los Angeles Lakers', '3.80', '1.28']]"
      ]
     },
     "execution_count": 9,
     "metadata": {},
     "output_type": "execute_result"
    }
   ],
   "source": [
    "matches"
   ]
  },
  {
   "cell_type": "code",
   "execution_count": null,
   "id": "a0d06e80-7e69-47b4-bf89-6de356714f0b",
   "metadata": {},
   "outputs": [],
   "source": []
  }
 ],
 "metadata": {
  "kernelspec": {
   "display_name": "Python 3 (ipykernel)",
   "language": "python",
   "name": "python3"
  },
  "language_info": {
   "codemirror_mode": {
    "name": "ipython",
    "version": 3
   },
   "file_extension": ".py",
   "mimetype": "text/x-python",
   "name": "python",
   "nbconvert_exporter": "python",
   "pygments_lexer": "ipython3",
   "version": "3.12.2"
  }
 },
 "nbformat": 4,
 "nbformat_minor": 5
}
