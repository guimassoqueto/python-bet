{
 "cells": [
  {
   "cell_type": "code",
   "execution_count": 14,
   "id": "ad0634b8-73c1-49bd-9376-5340713e4843",
   "metadata": {},
   "outputs": [],
   "source": [
    "from app.config.environment_variables import BETANO, PIXBET, ESP_DA_SORTE, VAI_DE_BET, ESTRELA_BET, SPORTING_BET\n",
    "from app.packages.browser.playwright import async_get_html_content\n",
    "import asyncio"
   ]
  },
  {
   "cell_type": "code",
   "execution_count": 15,
   "id": "2c773bc4-f45c-454e-b2d1-ec10ee49a03b",
   "metadata": {},
   "outputs": [],
   "source": [
    "loop = asyncio.get_event_loop()\n",
    "future = asyncio.run_coroutine_threadsafe(async_get_html_content(\"https://sports.bwin.com/pt-br/sports/basquete-7/aposta/am%C3%A9rica-do-norte-9/nba-6004\"), loop)"
   ]
  },
  {
   "cell_type": "code",
   "execution_count": 16,
   "id": "8aee4842-de00-4903-83ec-30768ce4f2d2",
   "metadata": {},
   "outputs": [],
   "source": [
    "content = future.result()"
   ]
  },
  {
   "cell_type": "code",
   "execution_count": 17,
   "id": "1b8a9023-8a06-4ec8-be21-81857c437a40",
   "metadata": {},
   "outputs": [],
   "source": [
    "from selectolax.parser import HTMLParser"
   ]
  },
  {
   "cell_type": "code",
   "execution_count": 18,
   "id": "1a6b57c0-0cef-4c9a-aaa8-0bdab758c1a6",
   "metadata": {},
   "outputs": [],
   "source": [
    "content = HTMLParser(content)"
   ]
  },
  {
   "cell_type": "code",
   "execution_count": 19,
   "id": "6d3cd605-839c-4d1b-8c36-af60a95e759f",
   "metadata": {},
   "outputs": [
    {
     "data": {
      "text/plain": [
       "<Node ms-event-group>"
      ]
     },
     "execution_count": 19,
     "metadata": {},
     "output_type": "execute_result"
    }
   ],
   "source": [
    "content.css_first(\".six-pack-groups\")"
   ]
  },
  {
   "cell_type": "code",
   "execution_count": 20,
   "id": "7404de42-f6b2-408c-92b9-f5a66b8b4a80",
   "metadata": {},
   "outputs": [],
   "source": [
    "def get_all_children(content: HTMLParser, selector):\n",
    "    nodes = content.css(selector)\n",
    "    children = []\n",
    "    for node in nodes:\n",
    "        children.extend([HTMLParser(child.html) for child in node.iter()])\n",
    "    return children"
   ]
  },
  {
   "cell_type": "code",
   "execution_count": 21,
   "id": "1d676a4d-4285-46b1-805b-574454e833a6",
   "metadata": {},
   "outputs": [],
   "source": [
    "children = get_all_children(content, \".six-pack-groups\")"
   ]
  },
  {
   "cell_type": "code",
   "execution_count": 74,
   "id": "3723dde5-e77f-4cb6-8a34-1790fb3cf946",
   "metadata": {},
   "outputs": [],
   "source": [
    "def get_matches(children):\n",
    "    matches = []\n",
    "    for child in children:\n",
    "        match = child.text(deep=True, separator=\"--\")\n",
    "        # remove espacos desnecessarios\n",
    "        match = match.split(\"--\")\n",
    "        match = [m.strip() for m in match]\n",
    "        if len(match) > 4:\n",
    "            matches.append(match)\n",
    "    return matches"
   ]
  },
  {
   "cell_type": "code",
   "execution_count": 75,
   "id": "1833166a-4a06-49ed-a575-9b5e36cc26a7",
   "metadata": {},
   "outputs": [],
   "source": [
    "matches = get_matches(children)"
   ]
  },
  {
   "cell_type": "code",
   "execution_count": 76,
   "id": "7eaf2176-5e2a-4c8c-a425-e2fc67f163ce",
   "metadata": {},
   "outputs": [
    {
     "data": {
      "text/plain": [
       "[['Sacramento Kings',\n",
       "  '@',\n",
       "  'Orlando Magic',\n",
       "  'Hoje / 20:10',\n",
       "  'Criar Aposta',\n",
       "  '+2,5',\n",
       "  '1.95',\n",
       "  '-2,5',\n",
       "  '1.87',\n",
       "  '218,5',\n",
       "  '▲ 218,5',\n",
       "  '1.91',\n",
       "  '▼ 218,5',\n",
       "  '1.91',\n",
       "  '2.20',\n",
       "  '1.70'],\n",
       " ['Charlotte Hornets',\n",
       "  '@',\n",
       "  'Atlanta Hawks',\n",
       "  'Hoje / 20:40',\n",
       "  'Criar Aposta',\n",
       "  '+8,5',\n",
       "  '1.87',\n",
       "  '-8,5',\n",
       "  '1.95',\n",
       "  '213,5',\n",
       "  '▲ 213,5',\n",
       "  '1.91',\n",
       "  '▼ 213,5',\n",
       "  '1.91',\n",
       "  '3.80',\n",
       "  '1.28'],\n",
       " ['Boston Celtics',\n",
       "  '@',\n",
       "  'Chicago Bulls',\n",
       "  'Hoje / 21:10',\n",
       "  'Criar Aposta',\n",
       "  '-5,5',\n",
       "  '1.95',\n",
       "  '+5,5',\n",
       "  '1.87',\n",
       "  '218,5',\n",
       "  '▲ 218,5',\n",
       "  '1.95',\n",
       "  '▼ 218,5',\n",
       "  '1.87',\n",
       "  '1.45',\n",
       "  '2.80'],\n",
       " ['Utah Jazz',\n",
       "  '@',\n",
       "  'Houston Rockets',\n",
       "  'Hoje / 21:10',\n",
       "  'Criar Aposta',\n",
       "  '+11,5',\n",
       "  '1.87',\n",
       "  '-11,5',\n",
       "  '1.95',\n",
       "  '228,5',\n",
       "  '▲ 228,5',\n",
       "  '1.91',\n",
       "  '▼ 228,5',\n",
       "  '1.91',\n",
       "  '5.25',\n",
       "  '1.17'],\n",
       " ['Phoenix Suns',\n",
       "  '@',\n",
       "  'San Antonio Spurs',\n",
       "  'Hoje / 21:10',\n",
       "  'Criar Aposta',\n",
       "  '-10,5',\n",
       "  '1.91',\n",
       "  '+10,5',\n",
       "  '1.91',\n",
       "  '231,5',\n",
       "  '▲ 231,5',\n",
       "  '1.87',\n",
       "  '▼ 231,5',\n",
       "  '1.95',\n",
       "  '1.20',\n",
       "  '4.75'],\n",
       " ['Toronto Raptors',\n",
       "  '@',\n",
       "  'Washington Wizards',\n",
       "  'Hoje / 21:10',\n",
       "  'Criar Aposta',\n",
       "  '+5,5',\n",
       "  '1.95',\n",
       "  '-5,5',\n",
       "  '1.87',\n",
       "  '230,5',\n",
       "  '▲ 230,5',\n",
       "  '1.87',\n",
       "  '▼ 230,5',\n",
       "  '1.95',\n",
       "  '2.80',\n",
       "  '1.45'],\n",
       " ['Denver Nuggets',\n",
       "  '@',\n",
       "  'Portland Trail Blazers',\n",
       "  'Hoje / 23:10',\n",
       "  'Criar Aposta',\n",
       "  '-9,5',\n",
       "  '1.91',\n",
       "  '+9,5',\n",
       "  '1.91',\n",
       "  '208,5',\n",
       "  '▲ 208,5',\n",
       "  '1.91',\n",
       "  '▼ 208,5',\n",
       "  '1.91',\n",
       "  '1.22',\n",
       "  '4.40']]"
      ]
     },
     "execution_count": 76,
     "metadata": {},
     "output_type": "execute_result"
    }
   ],
   "source": [
    "matches"
   ]
  },
  {
   "cell_type": "code",
   "execution_count": null,
   "id": "7cb62ba6-7fd6-49b5-9ab5-4f691794665b",
   "metadata": {},
   "outputs": [],
   "source": []
  }
 ],
 "metadata": {
  "kernelspec": {
   "display_name": "Python 3 (ipykernel)",
   "language": "python",
   "name": "python3"
  },
  "language_info": {
   "codemirror_mode": {
    "name": "ipython",
    "version": 3
   },
   "file_extension": ".py",
   "mimetype": "text/x-python",
   "name": "python",
   "nbconvert_exporter": "python",
   "pygments_lexer": "ipython3",
   "version": "3.12.2"
  }
 },
 "nbformat": 4,
 "nbformat_minor": 5
}
