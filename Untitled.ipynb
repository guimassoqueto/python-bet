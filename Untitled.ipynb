{
 "cells": [
  {
   "cell_type": "code",
   "execution_count": 1,
   "id": "5494236a-2169-4bc7-8e9d-c8951181df86",
   "metadata": {},
   "outputs": [],
   "source": [
    "from app.packages.browser.selenium import sync_get_html_content as se_get_content"
   ]
  },
  {
   "cell_type": "code",
   "execution_count": 2,
   "id": "a6d824a1-90be-40c7-ad94-e8af9334d4da",
   "metadata": {},
   "outputs": [],
   "source": [
    "from app.packages.html_parser.selectolax import get_games_list_container"
   ]
  },
  {
   "cell_type": "code",
   "execution_count": 3,
   "id": "6bf71238-a26e-44ad-807f-da9ca7426150",
   "metadata": {},
   "outputs": [],
   "source": [
    "page_content = se_get_content(\"https://br.betano.com/sport/futebol/proximas-3-horas/\")"
   ]
  },
  {
   "cell_type": "code",
   "execution_count": 4,
   "id": "7d1f4b89-5980-4ecd-b526-d8aed130641e",
   "metadata": {},
   "outputs": [
    {
     "data": {
      "text/plain": [
       "[<Node div>,\n",
       " <Node div>,\n",
       " <Node div>,\n",
       " <Node div>,\n",
       " <Node div>,\n",
       " <Node div>,\n",
       " <Node div>,\n",
       " <Node div>]"
      ]
     },
     "execution_count": 4,
     "metadata": {},
     "output_type": "execute_result"
    }
   ],
   "source": [
    "get_games_list_container(page_content)"
   ]
  },
  {
   "cell_type": "code",
   "execution_count": null,
   "id": "1ef21d87-2df6-4a5d-85b9-baad10f1df73",
   "metadata": {},
   "outputs": [],
   "source": []
  }
 ],
 "metadata": {
  "kernelspec": {
   "display_name": "Python 3 (ipykernel)",
   "language": "python",
   "name": "python3"
  },
  "language_info": {
   "codemirror_mode": {
    "name": "ipython",
    "version": 3
   },
   "file_extension": ".py",
   "mimetype": "text/x-python",
   "name": "python",
   "nbconvert_exporter": "python",
   "pygments_lexer": "ipython3",
   "version": "3.12.2"
  }
 },
 "nbformat": 4,
 "nbformat_minor": 5
}
