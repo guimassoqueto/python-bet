{
 "cells": [
  {
   "cell_type": "code",
   "execution_count": 1,
   "id": "ad0634b8-73c1-49bd-9376-5340713e4843",
   "metadata": {},
   "outputs": [],
   "source": [
    "from app.config.environment_variables import BETANO, PIXBET, ESP_DA_SORTE, VAI_DE_BET, ESTRELA_BET, SPORTING_BET\n",
    "from app.packages.browser.playwright import async_get_html_content\n",
    "import asyncio"
   ]
  },
  {
   "cell_type": "code",
   "execution_count": 2,
   "id": "2c773bc4-f45c-454e-b2d1-ec10ee49a03b",
   "metadata": {},
   "outputs": [],
   "source": [
    "loop = asyncio.get_event_loop()\n",
    "future = asyncio.run_coroutine_threadsafe(async_get_html_content(\"https://pixbet.com/sports/tournament/s3u64?category=s2u4S48242\"), loop)"
   ]
  },
  {
   "cell_type": "code",
   "execution_count": 3,
   "id": "8aee4842-de00-4903-83ec-30768ce4f2d2",
   "metadata": {},
   "outputs": [],
   "source": [
    "content = future.result()"
   ]
  },
  {
   "cell_type": "code",
   "execution_count": 4,
   "id": "1b8a9023-8a06-4ec8-be21-81857c437a40",
   "metadata": {},
   "outputs": [],
   "source": [
    "from selectolax.parser import HTMLParser"
   ]
  },
  {
   "cell_type": "code",
   "execution_count": 5,
   "id": "1a6b57c0-0cef-4c9a-aaa8-0bdab758c1a6",
   "metadata": {},
   "outputs": [],
   "source": [
    "content = HTMLParser(content)"
   ]
  },
  {
   "cell_type": "code",
   "execution_count": 6,
   "id": "ab8fc39e-dd27-4033-9249-97389b88629a",
   "metadata": {},
   "outputs": [],
   "source": [
    "def get_all_children(content: HTMLParser, selector):\n",
    "    nodes = content.css(selector)\n",
    "    children = []\n",
    "    for node in nodes:\n",
    "        children.extend([HTMLParser(child.html) for child in node.iter()])\n",
    "    return children"
   ]
  },
  {
   "cell_type": "code",
   "execution_count": 7,
   "id": "611cef77-f433-4bd6-aaf9-37e6fd28e7e2",
   "metadata": {},
   "outputs": [],
   "source": [
    "children = get_all_children(content, \".container.container--fluid.mt-0.pb-0.px-0\")"
   ]
  },
  {
   "cell_type": "code",
   "execution_count": 11,
   "id": "3723dde5-e77f-4cb6-8a34-1790fb3cf946",
   "metadata": {},
   "outputs": [],
   "source": [
    "def get_matches(children):\n",
    "    matches = []\n",
    "    for child in children:\n",
    "        import re\n",
    "        child_inner_text = child.text(deep=True)\n",
    "        arr = re.sub(' {2,}', '__', child_inner_text).split(\"NBA\")\n",
    "        for match in arr:\n",
    "            match = [m.strip() for m in match.split(\"__\") if m.strip() != \"\"]\n",
    "            matches.append(match)\n",
    "    return matches"
   ]
  },
  {
   "cell_type": "code",
   "execution_count": 12,
   "id": "5793728f-d0db-4f49-a682-e79864c599c5",
   "metadata": {},
   "outputs": [],
   "source": [
    "matches = get_matches(children)"
   ]
  },
  {
   "cell_type": "code",
   "execution_count": 16,
   "id": "081b2628-5894-43d3-bea2-6ceecf6a19d7",
   "metadata": {},
   "outputs": [
    {
     "name": "stdout",
     "output_type": "stream",
     "text": [
      "['Detroit Pistons', 'Hoje', '16:00', 'New Orleans Pelicans', '6.68', '1.16', '+210']\n",
      "['Los Angeles Clippers', 'Hoje', '16:30', 'Philadelphia 76ers', '1.28', '4.36', '+146']\n",
      "['Miami Heat', 'Hoje', '19:00', 'Cleveland Cavaliers', '1.62', '2.54', '+140']\n",
      "['Milwaukee Bucks', 'Hoje', '20:00', 'Oklahoma City Thunder', '1.82', '2.18', '+172']\n",
      "['Minnesota Timberwolves', 'Hoje', '20:00', 'Golden State Warriors', '1.79', '2.21', '+198']\n",
      "['L.A. Lakers', 'Hoje', '23:00', 'Indiana Pacers', '1.70', '2.36', '+158']\n",
      "['Toronto Raptors', 'Amanhã', '20:30', 'Brooklyn Nets', '2.92', '1.50', '+2']\n",
      "['Atlanta Hawks', 'Amanhã', '20:30', 'Boston Celtics', '3.54', '1.37', '+2']\n",
      "['San Antonio Spurs', 'Amanhã', '21:00', 'Phoenix Suns', '3.95', '1.32', '+2']\n",
      "['Houston Rockets', 'Amanhã', '21:00', 'Portland Trail Blazers', '1.32', '3.95', '+2']\n",
      "['Denver Nuggets', 'Amanhã', '22:00', 'Memphis Grizzlies', '1.28', '4.37', '+2']\n",
      "['Utah Jazz', 'Amanhã', '22:00', 'Dallas Mavericks', '3.23', '1.43', '+2']\n",
      "['Milwaukee Bucks', 'ter 26 mar 20:30', 'L.A. Lakers', '1.43', '3.23', '+2']\n",
      "['Miami Heat', 'ter 26 mar 20:30', 'Golden State Warriors', '1.88', '2.09', '+2']\n",
      "['New Orleans Pelicans', 'ter 26 mar 21:00', 'Oklahoma City Thunder', '2.21', '1.79', '+2']\n"
     ]
    }
   ],
   "source": [
    "for m in matches:\n",
    "    if len(m) > 5:\n",
    "        print(m)"
   ]
  },
  {
   "cell_type": "code",
   "execution_count": null,
   "id": "4d7b5f68-2464-405c-ac25-599074b80044",
   "metadata": {},
   "outputs": [],
   "source": []
  }
 ],
 "metadata": {
  "kernelspec": {
   "display_name": "Python 3 (ipykernel)",
   "language": "python",
   "name": "python3"
  },
  "language_info": {
   "codemirror_mode": {
    "name": "ipython",
    "version": 3
   },
   "file_extension": ".py",
   "mimetype": "text/x-python",
   "name": "python",
   "nbconvert_exporter": "python",
   "pygments_lexer": "ipython3",
   "version": "3.12.2"
  }
 },
 "nbformat": 4,
 "nbformat_minor": 5
}
