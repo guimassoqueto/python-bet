{
 "cells": [
  {
   "cell_type": "code",
   "execution_count": 1,
   "id": "ad0634b8-73c1-49bd-9376-5340713e4843",
   "metadata": {},
   "outputs": [],
   "source": [
    "from app.config.environment_variables import BETANO, PIXBET, ESP_DA_SORTE, VAI_DE_BET, ESTRELA_BET, SPORTING_BET\n",
    "from app.packages.browser.playwright_betano import async_get_html_content\n",
    "import asyncio"
   ]
  },
  {
   "cell_type": "code",
   "execution_count": 2,
   "id": "2c773bc4-f45c-454e-b2d1-ec10ee49a03b",
   "metadata": {},
   "outputs": [],
   "source": [
    "loop = asyncio.get_event_loop()\n",
    "future = asyncio.run_coroutine_threadsafe(async_get_html_content(\"https://br.betano.com/sport/basquete/eua/nba/441g/\"), loop)"
   ]
  },
  {
   "cell_type": "code",
   "execution_count": 3,
   "id": "8aee4842-de00-4903-83ec-30768ce4f2d2",
   "metadata": {},
   "outputs": [],
   "source": [
    "content = future.result()"
   ]
  },
  {
   "cell_type": "code",
   "execution_count": 4,
   "id": "1b8a9023-8a06-4ec8-be21-81857c437a40",
   "metadata": {},
   "outputs": [],
   "source": [
    "from selectolax.parser import HTMLParser"
   ]
  },
  {
   "cell_type": "code",
   "execution_count": 5,
   "id": "1a6b57c0-0cef-4c9a-aaa8-0bdab758c1a6",
   "metadata": {},
   "outputs": [],
   "source": [
    "content = HTMLParser(content)"
   ]
  },
  {
   "cell_type": "code",
   "execution_count": 6,
   "id": "6d3cd605-839c-4d1b-8c36-af60a95e759f",
   "metadata": {},
   "outputs": [
    {
     "data": {
      "text/plain": [
       "<Node div>"
      ]
     },
     "execution_count": 6,
     "metadata": {},
     "output_type": "execute_result"
    }
   ],
   "source": [
    "content.css_first(\".vue-recycle-scroller__item-wrapper\")"
   ]
  },
  {
   "cell_type": "code",
   "execution_count": 7,
   "id": "7404de42-f6b2-408c-92b9-f5a66b8b4a80",
   "metadata": {},
   "outputs": [],
   "source": [
    "def get_all_children(content: HTMLParser, selector):\n",
    "    nodes = content.css(selector)\n",
    "    children = []\n",
    "    for node in nodes:\n",
    "        children.extend([HTMLParser(child.html) for child in node.iter()])\n",
    "    return children"
   ]
  },
  {
   "cell_type": "code",
   "execution_count": 8,
   "id": "1d676a4d-4285-46b1-805b-574454e833a6",
   "metadata": {},
   "outputs": [],
   "source": [
    "children = get_all_children(content, \".vue-recycle-scroller__item-wrapper\")"
   ]
  },
  {
   "cell_type": "code",
   "execution_count": 9,
   "id": "3723dde5-e77f-4cb6-8a34-1790fb3cf946",
   "metadata": {},
   "outputs": [],
   "source": [
    "def get_matches(children):\n",
    "    matches = []\n",
    "    for child in children:\n",
    "        match = child.text(deep=True, separator=\"--\")\n",
    "        # remove espacos desnecessarios\n",
    "        # \"so\" na betano é super odds, que deve ser removido\n",
    "        match = [m.strip() for m in match.split(\"--\") if m.lower() != \"so\"][:-1]\n",
    "        matches.append(match)\n",
    "    return matches"
   ]
  },
  {
   "cell_type": "code",
   "execution_count": 10,
   "id": "1833166a-4a06-49ed-a575-9b5e36cc26a7",
   "metadata": {},
   "outputs": [],
   "source": [
    "matches = get_matches(children)"
   ]
  },
  {
   "cell_type": "code",
   "execution_count": 11,
   "id": "7eaf2176-5e2a-4c8c-a425-e2fc67f163ce",
   "metadata": {},
   "outputs": [
    {
     "data": {
      "text/plain": [
       "[['18/03',\n",
       "  '20:10',\n",
       "  'Indiana Pacers',\n",
       "  'Cleveland Cavaliers',\n",
       "  'Indiana Pacers',\n",
       "  '1.35',\n",
       "  'Cleveland Cavaliers',\n",
       "  '3.35'],\n",
       " ['18/03',\n",
       "  '20:40',\n",
       "  'Boston Celtics',\n",
       "  'Detroit Pistons',\n",
       "  'Boston Celtics',\n",
       "  '1.07',\n",
       "  'Detroit Pistons',\n",
       "  '9.75'],\n",
       " ['18/03',\n",
       "  '20:40',\n",
       "  'Philadelphia 76ers',\n",
       "  'Miami Heat',\n",
       "  'Philadelphia 76ers',\n",
       "  '1.75',\n",
       "  'Miami Heat',\n",
       "  '2.12'],\n",
       " ['18/03',\n",
       "  '21:10',\n",
       "  'Chicago Bulls',\n",
       "  'Portland Trail Blazers',\n",
       "  'Chicago Bulls',\n",
       "  '1.31',\n",
       "  'Portland Trail Blazers',\n",
       "  '3.60'],\n",
       " ['18/03',\n",
       "  '22:10',\n",
       "  'Utah Jazz',\n",
       "  'Minnesota Timberwolves',\n",
       "  'Utah Jazz',\n",
       "  '3.75',\n",
       "  'Minnesota Timberwolves',\n",
       "  '1.29'],\n",
       " ['18/03',\n",
       "  '23:10',\n",
       "  'Golden State Warriors',\n",
       "  'New York Knicks',\n",
       "  'Golden State Warriors',\n",
       "  '1.53',\n",
       "  'New York Knicks',\n",
       "  '2.70'],\n",
       " ['18/03',\n",
       "  '23:10',\n",
       "  'Sacramento Kings',\n",
       "  'Memphis Grizzlies',\n",
       "  'Sacramento Kings',\n",
       "  '1.24',\n",
       "  'Memphis Grizzlies',\n",
       "  '4.35'],\n",
       " ['18/03',\n",
       "  '23:40',\n",
       "  'Los Angeles Lakers',\n",
       "  'Atlanta Hawks',\n",
       "  'Los Angeles Lakers',\n",
       "  '1.25',\n",
       "  'Atlanta Hawks',\n",
       "  '4.15'],\n",
       " ['19/03',\n",
       "  '20:10',\n",
       "  'Orlando Magic',\n",
       "  'Charlotte Hornets',\n",
       "  'Orlando Magic',\n",
       "  '1.15',\n",
       "  'Charlotte Hornets',\n",
       "  '5.80'],\n",
       " ['19/03',\n",
       "  '20:10',\n",
       "  'Washington Wizards',\n",
       "  'Houston Rockets',\n",
       "  'Washington Wizards',\n",
       "  '2.85',\n",
       "  'Houston Rockets',\n",
       "  '1.45'],\n",
       " ['19/03',\n",
       "  '20:40',\n",
       "  'Brooklyn Nets',\n",
       "  'New Orleans Pelicans',\n",
       "  'Brooklyn Nets',\n",
       "  '3.00',\n",
       "  'New Orleans Pelicans',\n",
       "  '1.42'],\n",
       " ['19/03',\n",
       "  '21:10',\n",
       "  'San Antonio Spurs',\n",
       "  'Dallas Mavericks',\n",
       "  'San Antonio Spurs',\n",
       "  '3.30',\n",
       "  'Dallas Mavericks',\n",
       "  '1.36'],\n",
       " ['19/03',\n",
       "  '22:10',\n",
       "  'Minnesota Timberwolves',\n",
       "  'Denver Nuggets',\n",
       "  'Minnesota Timberwolves',\n",
       "  '2.18',\n",
       "  'Denver Nuggets',\n",
       "  '1.72']]"
      ]
     },
     "execution_count": 11,
     "metadata": {},
     "output_type": "execute_result"
    }
   ],
   "source": [
    "matches"
   ]
  },
  {
   "cell_type": "code",
   "execution_count": null,
   "id": "f915496f-802d-47be-aadd-290276e3531e",
   "metadata": {},
   "outputs": [],
   "source": []
  }
 ],
 "metadata": {
  "kernelspec": {
   "display_name": "Python 3 (ipykernel)",
   "language": "python",
   "name": "python3"
  },
  "language_info": {
   "codemirror_mode": {
    "name": "ipython",
    "version": 3
   },
   "file_extension": ".py",
   "mimetype": "text/x-python",
   "name": "python",
   "nbconvert_exporter": "python",
   "pygments_lexer": "ipython3",
   "version": "3.12.2"
  }
 },
 "nbformat": 4,
 "nbformat_minor": 5
}
