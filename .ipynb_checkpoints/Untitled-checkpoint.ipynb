{
 "cells": [
  {
   "cell_type": "code",
   "execution_count": 21,
   "id": "5494236a-2169-4bc7-8e9d-c8951181df86",
   "metadata": {},
   "outputs": [],
   "source": [
    "from app.packages.browser.selenium import sync_get_html_content as se_get_content"
   ]
  },
  {
   "cell_type": "code",
   "execution_count": 22,
   "id": "85ef7fb1-47df-4c9a-932c-ede6a6c166c1",
   "metadata": {},
   "outputs": [],
   "source": [
    "from app.packages.html_parser.selectolax import get_page_title"
   ]
  },
  {
   "cell_type": "code",
   "execution_count": 23,
   "id": "6519f308-d7af-4269-945f-ed61124ff675",
   "metadata": {},
   "outputs": [],
   "source": [
    "import asyncio"
   ]
  },
  {
   "cell_type": "code",
   "execution_count": 24,
   "id": "a5d030bd-9ad4-4da7-a999-e7247721661e",
   "metadata": {},
   "outputs": [],
   "source": [
    "from selectolax.parser import HTMLParser"
   ]
  },
  {
   "cell_type": "code",
   "execution_count": 25,
   "id": "6bf71238-a26e-44ad-807f-da9ca7426150",
   "metadata": {},
   "outputs": [],
   "source": [
    "page_content = se_get_content(\"https://br.betano.com/sport/futebol/proximas-3-horas/\")"
   ]
  },
  {
   "cell_type": "code",
   "execution_count": 26,
   "id": "5de8d3cf-69ec-4cb1-a4e7-8e7a7c40a2a6",
   "metadata": {},
   "outputs": [
    {
     "data": {
      "text/plain": [
       "'Jogos nas Próximas 3 Horas - Apostas e Odds  | Betano'"
      ]
     },
     "execution_count": 26,
     "metadata": {},
     "output_type": "execute_result"
    }
   ],
   "source": [
    "get_page_title(page_content)"
   ]
  },
  {
   "cell_type": "code",
   "execution_count": 27,
   "id": "ccd4b180-552a-4cc4-96fd-37da789bcdd2",
   "metadata": {},
   "outputs": [],
   "source": [
    "def get_list(page_content: str | bytes):\n",
    "    parser = HTMLParser(page_content)\n",
    "    node = parser.css_first('.vue-recycle-scroller__item-wrapper')\n",
    "    return node"
   ]
  },
  {
   "cell_type": "code",
   "execution_count": null,
   "id": "7d1f4b89-5980-4ecd-b526-d8aed130641e",
   "metadata": {},
   "outputs": [],
   "source": []
  }
 ],
 "metadata": {
  "kernelspec": {
   "display_name": "Python 3 (ipykernel)",
   "language": "python",
   "name": "python3"
  },
  "language_info": {
   "codemirror_mode": {
    "name": "ipython",
    "version": 3
   },
   "file_extension": ".py",
   "mimetype": "text/x-python",
   "name": "python",
   "nbconvert_exporter": "python",
   "pygments_lexer": "ipython3",
   "version": "3.12.2"
  }
 },
 "nbformat": 4,
 "nbformat_minor": 5
}
